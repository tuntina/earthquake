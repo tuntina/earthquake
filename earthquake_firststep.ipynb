{
 "cells": [
  {
   "cell_type": "code",
   "execution_count": null,
   "id": "f6dbe775",
   "metadata": {},
   "outputs": [],
   "source": [
    "#Kütüphaneler yüklenir.\n",
    "import pandas as pd\n",
    "import matplotlib.pyplot as plt\n",
    "import numpy as np\n",
    "from sklearn.linear_model import LogisticRegression\n",
    "from sklearn.metrics import classification_report, confusion_matrix\n",
    "import folium\n",
    "\n",
    "df = pd.read_csv(\"C:\\\\Users\\\\evata\\\\datascience\\\\earthquake.csv\")\n",
    "df.head()\n",
    "#Süreye Bağlı Büyüklük (Md)+++\n",
    "\n",
    "#Yerel (Lokal) Büyüklük (Ml)\n",
    "\n",
    "#Yüzey Dalgası Büyüklüğü (Ms)+++\n",
    "\n",
    "#Cisim Dalgası Büyüklüğü (Mb)+++\n",
    "\n",
    "#Moment Büyüklüğü (Mw)\n",
    "\n",
    "#deprem şiddeti (xm) 0.0 değerler için hesaplanmadı demek"
   ]
  },
  {
   "cell_type": "code",
   "execution_count": null,
   "id": "bbf7b9d5",
   "metadata": {},
   "outputs": [],
   "source": [
    "df[\"country\"].unique()"
   ]
  },
  {
   "cell_type": "code",
   "execution_count": null,
   "id": "08e38bcb",
   "metadata": {},
   "outputs": [],
   "source": [
    "#Türkiye bağlı enlem boylam sınırlandırıldı\n",
    "df = df[df[\"country\"] == \"turkey\"]\n",
    "\n",
    "df=df[df[\"lat\"]>=36]\n",
    "df=df[df[\"lat\"]<=42]\n",
    "df=df[df[\"long\"]<=45]\n",
    "df=df[df[\"long\"]>=26]"
   ]
  },
  {
   "cell_type": "code",
   "execution_count": null,
   "id": "d6203c02",
   "metadata": {},
   "outputs": [],
   "source": [
    "#toplam bos değer\n",
    "df.isna().sum()"
   ]
  },
  {
   "cell_type": "code",
   "execution_count": null,
   "id": "b8a96c69",
   "metadata": {},
   "outputs": [],
   "source": [
    "df.shape\n"
   ]
  },
  {
   "cell_type": "code",
   "execution_count": null,
   "id": "9db3e6d5",
   "metadata": {},
   "outputs": [],
   "source": [
    "df.describe()"
   ]
  },
  {
   "cell_type": "code",
   "execution_count": null,
   "id": "411beb05",
   "metadata": {},
   "outputs": [],
   "source": [
    "#missingno kayıp verileri bulmak için kurulur\n",
    "import missingno as mno\n",
    "mno.matrix(df, figsize = (20, 6))"
   ]
  },
  {
   "cell_type": "code",
   "execution_count": null,
   "id": "09a00591",
   "metadata": {},
   "outputs": [],
   "source": [
    "#mw sutununda cok fazla bos satır bulunduğu için sutun silinir.\n",
    "df = df.drop(columns= \"mw\")"
   ]
  },
  {
   "cell_type": "code",
   "execution_count": null,
   "id": "35c532f6",
   "metadata": {},
   "outputs": [],
   "source": [
    "df.tail()"
   ]
  },
  {
   "cell_type": "code",
   "execution_count": null,
   "id": "e4cf59f1",
   "metadata": {},
   "outputs": [],
   "source": [
    "#son 1697 değer bos olduğu için dikkate alınmadı\n",
    "df=df[:9949]\n",
    "mno.matrix(df, figsize = (20, 6))"
   ]
  },
  {
   "cell_type": "code",
   "execution_count": null,
   "id": "058a179a",
   "metadata": {},
   "outputs": [],
   "source": [
    "df.isnull().sum()"
   ]
  },
  {
   "cell_type": "code",
   "execution_count": null,
   "id": "5cfa1bfa",
   "metadata": {},
   "outputs": [],
   "source": [
    "#area sutununda bos kısımlar için bilinmiyor eklendi.\n",
    "df = df.fillna(\"bilinmiyor\")"
   ]
  },
  {
   "cell_type": "code",
   "execution_count": null,
   "id": "a8e267f0",
   "metadata": {},
   "outputs": [],
   "source": [
    "data = df.copy()"
   ]
  },
  {
   "cell_type": "code",
   "execution_count": null,
   "id": "8622f0a4",
   "metadata": {},
   "outputs": [],
   "source": [
    "data['time'] = pd.to_datetime(data['time'])\n",
    "data['time'] = pd.to_numeric(pd.to_datetime(data['time']))\n"
   ]
  },
  {
   "cell_type": "code",
   "execution_count": null,
   "id": "1dfd259d",
   "metadata": {},
   "outputs": [],
   "source": [
    "# date sütunu gün yıl ay a ayrılır\n",
    "data[[\"year\", \"month\", \"day\"]] = data[\"date\"].str.split(\".\", expand = True)"
   ]
  },
  {
   "cell_type": "code",
   "execution_count": null,
   "id": "4abde457",
   "metadata": {},
   "outputs": [],
   "source": [
    "data[\"year\"]= data[\"year\"].astype(int)\n",
    "data[\"month\"]= data[\"month\"].astype(int)\n",
    "data[\"day\"]= data[\"day\"].astype(int)"
   ]
  },
  {
   "cell_type": "code",
   "execution_count": null,
   "id": "4f0474a8",
   "metadata": {},
   "outputs": [],
   "source": [
    "# şiddetine göre haritalanması \n",
    "data.plot(x=\"long\", y=\"lat\", kind=\"scatter\", c=\"xm\", colormap=\"hot\",figsize=(25, 10))"
   ]
  },
  {
   "cell_type": "code",
   "execution_count": null,
   "id": "11561f7a",
   "metadata": {},
   "outputs": [],
   "source": [
    "data.info()"
   ]
  },
  {
   "cell_type": "code",
   "execution_count": null,
   "id": "52fb5b56",
   "metadata": {},
   "outputs": [],
   "source": [
    "import geopandas\n",
    "from folium import GeoJson\n",
    "from folium import plugins"
   ]
  },
  {
   "cell_type": "code",
   "execution_count": null,
   "id": "5a5bda6f",
   "metadata": {},
   "outputs": [],
   "source": [
    "lat = np.asarray(data.lat)\n",
    "lon = np.asarray(data.long)\n",
    "mag = np.asarray(data.xm)\n",
    "year = np.asarray(data.year)\n",
    "\n",
    "mean_lat = data.lat.mean()\n",
    "mean_lon = data.long.mean()"
   ]
  },
  {
   "cell_type": "code",
   "execution_count": null,
   "id": "b84fdb8f",
   "metadata": {},
   "outputs": [],
   "source": [
    "location = [lat, lon]"
   ]
  },
  {
   "cell_type": "code",
   "execution_count": null,
   "id": "08c1d188",
   "metadata": {},
   "outputs": [],
   "source": [
    "m= folium.Map(location=[mean_lat, mean_lon], zoom_start=7)\n",
    "m"
   ]
  },
  {
   "cell_type": "code",
   "execution_count": null,
   "id": "2321750d",
   "metadata": {},
   "outputs": [],
   "source": [
    "data[\"lat\"]= data[\"lat\"].astype(float)\n",
    "data[\"long\"]= data[\"long\"].astype(float)\n",
    "data[\"xm\"]= data[\"xm\"].astype(float)\n",
    "data[\"year\"]= data[\"year\"].astype(int)"
   ]
  },
  {
   "cell_type": "code",
   "execution_count": null,
   "id": "fbc9717d",
   "metadata": {},
   "outputs": [],
   "source": [
    "for idx in range(len(lat)):\n",
    "    marker = folium.CircleMarker(\n",
    "        location=[lat[idx],lon[idx]],\n",
    "        radius=mag[idx]**5/2500,\n",
    "        color='Red',\n",
    "        popup=f'lat: {lat[idx]}, long: {lon[idx]} , year: {year[idx]}',\n",
    "        tooltip=f'Magnitude: {mag[idx]}')\n",
    "    marker.add_to(m)\n",
    "# deprem şiddetine göre çap büyüyen haritalandırma"
   ]
  },
  {
   "cell_type": "code",
   "execution_count": null,
   "id": "ba93aa85",
   "metadata": {},
   "outputs": [],
   "source": [
    "import fiona\n",
    "import pandas as pd\n",
    "import geopandas\n",
    "import geopandas as gpd"
   ]
  },
  {
   "cell_type": "code",
   "execution_count": null,
   "id": "7be0ff09",
   "metadata": {},
   "outputs": [],
   "source": [
    "import geopandas as gpd\n",
    "gdf = gpd.read_file('C:\\\\Users\\\\evata\\\\datascience\\\\Turkey_shapefile\\\\tr_10km.shp')\n",
    "json = gpd.GeoSeries([gdf.geometry.iloc[0]]).__geo_interface__\n",
    "# türkiye sınırları için shp dosyası "
   ]
  },
  {
   "cell_type": "code",
   "execution_count": null,
   "id": "953464a6",
   "metadata": {},
   "outputs": [],
   "source": [
    "data_map_geo = geopandas.GeoDataFrame(\n",
    "    data, geometry=geopandas.points_from_xy(data.long, data.lat))"
   ]
  },
  {
   "cell_type": "code",
   "execution_count": null,
   "id": "ab26f48b",
   "metadata": {},
   "outputs": [],
   "source": [
    "data_map_geo"
   ]
  },
  {
   "cell_type": "code",
   "execution_count": null,
   "id": "f00c06a4",
   "metadata": {},
   "outputs": [],
   "source": [
    "countries = geopandas.read_file(\"C:\\\\Users\\\\evata\\datascience\\\\Turkey_population_with_geopandas-main\\\\Turkey_population_with_geopandas-main\\\\countries.geojson\")"
   ]
  },
  {
   "cell_type": "code",
   "execution_count": null,
   "id": "1140f980",
   "metadata": {},
   "outputs": [],
   "source": [
    "countries"
   ]
  },
  {
   "cell_type": "code",
   "execution_count": null,
   "id": "fd3b712a",
   "metadata": {},
   "outputs": [],
   "source": [
    "countries.plot()"
   ]
  },
  {
   "cell_type": "code",
   "execution_count": null,
   "id": "395de1bb",
   "metadata": {},
   "outputs": [],
   "source": [
    "turkey = countries[countries[\"ADMIN\"] == \"Turkey\"]\n",
    "turkey.plot()"
   ]
  },
  {
   "cell_type": "code",
   "execution_count": null,
   "id": "82235da0",
   "metadata": {},
   "outputs": [],
   "source": [
    "turkey_gf = geopandas.read_file(\"C:\\\\Users\\\\evata\\datascience\\\\Turkey_population_with_geopandas-main\\\\Turkey_population_with_geopandas-main\\\\TUR_adm\\\\TUR_adm1.shp\")"
   ]
  },
  {
   "cell_type": "code",
   "execution_count": null,
   "id": "43b11228",
   "metadata": {},
   "outputs": [],
   "source": [
    "turkey_geo = turkey_gf.copy()"
   ]
  },
  {
   "cell_type": "code",
   "execution_count": null,
   "id": "1bcf3e1c",
   "metadata": {},
   "outputs": [],
   "source": [
    "turkey_geo = turkey_geo[[\"NAME_1\",\"geometry\"]]"
   ]
  },
  {
   "cell_type": "code",
   "execution_count": null,
   "id": "ebc71bda",
   "metadata": {},
   "outputs": [],
   "source": [
    "turkey_geo.rename(columns={\"NAME_1\":\"provience\"}, inplace=True)"
   ]
  },
  {
   "cell_type": "code",
   "execution_count": null,
   "id": "ba402347",
   "metadata": {},
   "outputs": [],
   "source": [
    "turkey_geo.plot(figsize=(15,15),edgecolor=\"b\", facecolor=\"none\")"
   ]
  },
  {
   "cell_type": "code",
   "execution_count": null,
   "id": "49323846",
   "metadata": {},
   "outputs": [],
   "source": [
    "turkey_geo.crs #crs EPSG:4326> tipinde"
   ]
  },
  {
   "cell_type": "code",
   "execution_count": null,
   "id": "6c4bb485",
   "metadata": {},
   "outputs": [],
   "source": [
    "data_map_geo = gdf.to_crs(\"EPSG:4326\")\n",
    "# data_map_geo nun da crs EPSG:4326 olarak ayarlanır"
   ]
  },
  {
   "cell_type": "code",
   "execution_count": null,
   "id": "771e7ea0",
   "metadata": {},
   "outputs": [],
   "source": [
    "data_map_geo.crs"
   ]
  },
  {
   "cell_type": "code",
   "execution_count": null,
   "id": "592a37eb",
   "metadata": {},
   "outputs": [],
   "source": [
    "data_map_geo"
   ]
  },
  {
   "cell_type": "code",
   "execution_count": null,
   "id": "4dd8dbd3",
   "metadata": {},
   "outputs": [],
   "source": [
    "from shapely.geometry import Polygon, LineString, Point"
   ]
  },
  {
   "cell_type": "code",
   "execution_count": null,
   "id": "27fb67dc",
   "metadata": {},
   "outputs": [],
   "source": [
    "data = data.loc[~np.isnan(data[\"lat\"])]\n",
    "data_merge_turkey = gpd.GeoDataFrame(\n",
    "    data, geometry=gpd.points_from_xy(data.long, data.lat))"
   ]
  },
  {
   "cell_type": "code",
   "execution_count": null,
   "id": "b22ac6b1",
   "metadata": {},
   "outputs": [],
   "source": [
    "fig, ax = plt.subplots(figsize=(40, 10))\n",
    "turkey_geo.plot(ax=ax, alpha=0.2, color=\"grey\")\n",
    "data_merge_turkey.plot(column=\"xm\", ax=ax, legend=True)\n",
    "plt.title(\"Earthquake\")"
   ]
  }
 ],
 "metadata": {
  "kernelspec": {
   "display_name": "Python 3 (ipykernel)",
   "language": "python",
   "name": "python3"
  },
  "language_info": {
   "codemirror_mode": {
    "name": "ipython",
    "version": 3
   },
   "file_extension": ".py",
   "mimetype": "text/x-python",
   "name": "python",
   "nbconvert_exporter": "python",
   "pygments_lexer": "ipython3",
   "version": "3.9.12"
  }
 },
 "nbformat": 4,
 "nbformat_minor": 5
}
